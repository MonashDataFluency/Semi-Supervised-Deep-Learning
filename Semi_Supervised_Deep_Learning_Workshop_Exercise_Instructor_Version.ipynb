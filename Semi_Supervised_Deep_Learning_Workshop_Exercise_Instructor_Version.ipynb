{
  "nbformat": 4,
  "nbformat_minor": 0,
  "metadata": {
    "colab": {
      "name": "Semi Supervised Deep Learning Workshop Exercise - Instructor Version.ipynb",
      "provenance": [],
      "collapsed_sections": [],
      "toc_visible": true
    },
    "kernelspec": {
      "name": "python3",
      "display_name": "Python 3"
    },
    "accelerator": "TPU"
  },
  "cells": [
    {
      "cell_type": "markdown",
      "metadata": {
        "id": "dm8zOxOwCIsk"
      },
      "source": [
        "## Semi Supervised Deep Learning Workshop Exercise - Instructor Version\n",
        "\n",
        "This notebook contains example code to complete the basic exercises in the hands-on component of the Semi-Supervised Deep Learning workshop.\n",
        "For complete context, refer to the student version of this notebook. \n"
      ]
    },
    {
      "cell_type": "code",
      "metadata": {
        "id": "EMqrh55TCHlA"
      },
      "source": [
        "# Load the modules we will be using today\n",
        "import tensorflow as tf\n",
        "import tensorflow.keras.layers as L\n",
        "import numpy as np\n",
        "import matplotlib.pyplot as plt\n",
        "from tensorflow import keras\n",
        "import random\n",
        "import pickle\n",
        "\n",
        "# Preprocess the dataset for convenience\n",
        "(train_images, train_labels), (test_images, test_labels) = keras.datasets.cifar10.load_data()\n",
        "\n",
        "# Normalise the images and remove redundant dimensions\n",
        "train_images = train_images / 255.0\n",
        "test_images = test_images / 255.0\n",
        "train_labels = np.squeeze(train_labels)\n",
        "test_labels = np.squeeze(test_labels)\n",
        "\n",
        "# Populate the \"dataset\" dictionary with the CIFAR-10 data\n",
        "dataset = {}\n",
        "dataset['train_images'] = train_images\n",
        "dataset['train_labels'] = train_labels\n",
        "dataset['train_images_grouped'] = [ [] for i in range(10) ]\n",
        "dataset['test_images'] = test_images\n",
        "dataset['test_labels'] = test_labels\n",
        "\n",
        "for i in range(train_labels.shape[0]):\n",
        "  dataset['train_images_grouped'][train_labels[i]].append(train_images[i])\n"
      ],
      "execution_count": null,
      "outputs": []
    },
    {
      "cell_type": "code",
      "metadata": {
        "id": "qqIFi6bSJY5a"
      },
      "source": [
        "# Inspect the dataset\n",
        "print('Dataset keys:', [k for k in dataset.keys()])\n",
        "print('Training images per class:', [len(c) for c in dataset['train_images_grouped']])\n",
        "print('Image shape:', dataset['train_images_grouped'][0][0].shape)\n",
        "\n",
        "fig=plt.figure(figsize=(20, 20))\n",
        "rows = 10 # Show all 10 classes\n",
        "columns = 5 # Show 5 samples per class\n",
        "for i in range(rows):\n",
        "  for j in range(columns):\n",
        "    fig.add_subplot(rows, columns, (i)*columns+j+1)\n",
        "    plt.imshow(dataset['train_images_grouped'][i][j])\n",
        "plt.show()\n",
        "\n"
      ],
      "execution_count": null,
      "outputs": []
    },
    {
      "cell_type": "code",
      "metadata": {
        "id": "Z4-N7oeLUh-N"
      },
      "source": [
        "# Extract the first 1% of labelled samples\n",
        "take_first_X = 50\n",
        "train_images_supervised = []; train_labels_supervised = []\n",
        "for i in range(10):\n",
        "    train_images_supervised += dataset['train_images_grouped'][i][:take_first_X]\n",
        "    train_labels_supervised += [i] * take_first_X\n",
        "\n",
        "train_images_supervised = np.asarray(train_images_supervised)\n",
        "train_labels_supervised = np.asarray(train_labels_supervised, np.int32)\n"
      ],
      "execution_count": null,
      "outputs": []
    },
    {
      "cell_type": "code",
      "metadata": {
        "id": "ajY1TGteSL0Z"
      },
      "source": [
        "# Define the model architecture\n",
        "class SimpleModel(tf.keras.Model):\n",
        "  def __init__(self):\n",
        "    super(SimpleModel, self).__init__()\n",
        "\n",
        "    # Encoder layers\n",
        "    # Hint: You may choose to use keras.layers.Conv2D\n",
        "    self.enConv1 = L.Conv2D(16,(3,3), padding='same', activation='relu')\n",
        "    self.enConv2 = L.Conv2D(32,(3,3), padding='same', activation='relu')\n",
        "    self.enConv3 = L.Conv2D(64,(3,3), padding='same', activation='relu')\n",
        "\n",
        "    # Classification head layers\n",
        "    # Hint: You may choose to use keras.layers.Dense\n",
        "    self.dense1 = L.Dense(32, activation='relu')\n",
        "    self.dense2 = L.Dense(10, activation=None)\n",
        "\n",
        "    # Decoder head layers\n",
        "    # Hint: You may choose to use keras.layers.Conv2DTranspose\n",
        "    # Creating an output the same shape as the input using deconvolution layers may be tricky\n",
        "    # Using padding='same' makes it easier.\n",
        "    self.deConv1 = L.Conv2DTranspose(32, (3,3), padding='same', strides=(2,2), activation='relu')\n",
        "    self.deConv2 = L.Conv2DTranspose(3, (3,3), padding='same', strides=(2,2), activation='sigmoid')\n",
        "\n",
        "  def call(self, x):\n",
        "    # Encoder\n",
        "    x = self.enConv1(x)\n",
        "    x = L.MaxPooling2D((2, 2), strides=(2, 2))(x)\n",
        "    x = self.enConv2(x)\n",
        "    x = L.MaxPooling2D((2, 2), strides=(2, 2))(x)\n",
        "    x = self.enConv3(x)\n",
        "\n",
        "    # Classification head\n",
        "    c = L.Flatten()(x)\n",
        "    c = self.dense1(c)\n",
        "    c = self.dense2(c)\n",
        "\n",
        "    # Decoder head\n",
        "    s = self.deConv1(x)\n",
        "    s = self.deConv2(s)\n",
        "\n",
        "    return c, s\n",
        "\n",
        "# Define the loss function\n",
        "def SemiSupervised_CrossEntropy_or_MSE(labels, inputs, logits, regen_img, mode='supervised'):\n",
        "\n",
        "    if mode == 'supervised':\n",
        "      # Classification loss is necessary since this is the supervised loss\n",
        "      classification_loss = tf.reduce_mean(tf.nn.sparse_softmax_cross_entropy_with_logits(labels, logits))\n",
        "\n",
        "      # Regeneration loss is not strictly necessary\n",
        "      reconstruction_loss = tf.reduce_mean(tf.square(inputs-regen_img))\n",
        "\n",
        "      return classification_loss + reconstruction_loss\n",
        "\n",
        "    else:\n",
        "      # Classification loss is 0 as it is not used here\n",
        "      classification_loss = tf.reduce_mean(0.*logits)\n",
        "\n",
        "      # Regeneration loss is simply the L2 loss\n",
        "      reconstruction_loss = tf.reduce_mean(tf.square(inputs-regen_img))\n",
        "\n",
        "      return classification_loss + reconstruction_loss\n",
        "\n",
        "# Define a validation function\n",
        "def ValidateModel(model, test_images, test_labels):\n",
        "  predictions, seg = model.predict(test_images)\n",
        "  predicted_classes = np.argmax(predictions, axis=-1)\n",
        "  accuracy = 1. * np.sum(predicted_classes == test_labels) / test_labels.shape[0]\n",
        "  print('Validation accuracy =', accuracy)\n",
        "  confusion_matrix = np.zeros((10,10))\n",
        "  for i in range(test_labels.shape[0]):\n",
        "    confusion_matrix[test_labels[i],predicted_classes[i]] += 1\n",
        "  print(confusion_matrix)"
      ],
      "execution_count": null,
      "outputs": []
    },
    {
      "cell_type": "code",
      "metadata": {
        "id": "2UUd03rL3WRe",
        "collapsed": true
      },
      "source": [
        "# The main training script\n",
        "# The easiest way to toggle between semi-supervised and supervised training is to change the initial value of supervised_prob = 50 to 100\n",
        "# With 1% of labelled data, this example script is able to achieve ~1% improvement in validation results using semi-supervised training.\n",
        "\n",
        "model = SimpleModel()\n",
        "optimiser = tf.keras.optimizers.Adam(learning_rate=1e-4)\n",
        "\n",
        "accumulated_loss = 0\n",
        "supervised_prob = 100  # Probability of sampling a supervised batch for training\n",
        "max_train_batches = 3000\n",
        "batch_size = 32\n",
        "\n",
        "train_batch = 1\n",
        "while train_batch < max_train_batches:\n",
        "\n",
        "    # Example of increasing the supervised probability throughout training\n",
        "    if train_batch % 250 == 0:\n",
        "      supervised_prob += 10\n",
        "\n",
        "    supervised_or_unsupervised = np.random.randint(0,100)\n",
        "    train_batch += 1\n",
        "    if supervised_or_unsupervised < supervised_prob: # if supervised\n",
        "      \n",
        "      input_batch = []; label_batch = []\n",
        "      for i in range(batch_size):\n",
        "        x = np.random.randint(0, train_images_supervised.shape[0])\n",
        "        input_batch.append(train_images_supervised[x])\n",
        "        label_batch.append(train_labels_supervised[x])\n",
        "        \n",
        "    else: # if unsupervised\n",
        "        input_batch = []\n",
        "        for i in range(batch_size):\n",
        "          x = np.random.randint(0, dataset['train_images'].shape[0])\n",
        "          input_batch.append(dataset['train_images'][x])\n",
        "\n",
        "    with tf.GradientTape() as tape:\n",
        "      input_batch = np.asarray(input_batch)\n",
        "      logits, regen_img = model(input_batch, training=True)\n",
        "      \n",
        "      # Calculate the loss depending on training mode\n",
        "      if supervised_or_unsupervised < supervised_prob: # Supervised mode\n",
        "          loss = SemiSupervised_CrossEntropy_or_MSE(np.asarray(label_batch), input_batch, logits, regen_img,\n",
        "                                                                  mode='supervised')\n",
        "      else: # Unsupervised mode\n",
        "          loss = SemiSupervised_CrossEntropy_or_MSE(None, input_batch, logits, regen_img,\n",
        "                                                                  mode='unsupervised')\n",
        "      \n",
        "      # Perform gradient descent on the loss    \n",
        "      gradients = tape.gradient(loss, model.trainable_variables)\n",
        "      optimiser.apply_gradients(zip(gradients, model.trainable_variables))\n",
        "    accumulated_loss += loss.numpy()\n",
        "\n",
        "    # Validation at every certain number of batches\n",
        "    if train_batch % 250 == 0:\n",
        "      print('Validation at train batch', train_batch)\n",
        "      ValidateModel(model, dataset['test_images'], dataset['test_labels'])\n",
        "\n"
      ],
      "execution_count": null,
      "outputs": []
    },
    {
      "cell_type": "markdown",
      "metadata": {
        "id": "VURMMCV48N-I"
      },
      "source": [
        "### Miscellaneous example code"
      ]
    },
    {
      "cell_type": "code",
      "metadata": {
        "id": "JkN7shTctK3M"
      },
      "source": [
        "# A function to randomly shuffle two associated lists (such as images and labels) in the same order\n",
        "def randshuf(a,b):\n",
        "  c = list(zip(a,b))\n",
        "  random.shuffle(c)\n",
        "  a,b = zip(*c)\n",
        "  return a,b\n",
        "\n",
        "# A function to add Gaussian noise to the input images\n",
        "def AddNoise(images, range):\n",
        "  for i, img in enumerate(images):\n",
        "    img += np.random.normal(loc=0.0, scale=range, size=img.shape)\n",
        "  return images\n",
        "\n",
        "# Or add noise inline as follows:\n",
        "# Be sure to not modify the original dataset as it will corrupt the data for future use\n",
        "input_batch_noise = input_batch + np.random.normal(scale=0.0, size=input_batch.shape)\n",
        "test_images_noise = test_images + np.random.normal(scale=0.0, size=test_images.shape)"
      ],
      "execution_count": null,
      "outputs": []
    }
  ]
}